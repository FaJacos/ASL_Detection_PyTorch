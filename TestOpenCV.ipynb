{
 "cells": [
  {
   "cell_type": "code",
   "execution_count": 25,
   "metadata": {},
   "outputs": [
    {
     "name": "stdout",
     "output_type": "stream",
     "text": [
      "papapap\n"
     ]
    },
    {
     "data": {
      "text/plain": [
       "-1"
      ]
     },
     "execution_count": 25,
     "metadata": {},
     "output_type": "execute_result"
    }
   ],
   "source": [
    "import cv2 as cv\n",
    "import torch as nn\n",
    "import mediapipe as mp\n",
    "\n",
    "img = cv.imread('ASL_Data/asl_alphabet_train/A/A90.jpg')\n",
    "\n",
    "mpHands = mp.solutions.hands\n",
    "hands =  mpHands.Hands()\n",
    "mpDraw = mp.solutions.drawing_utils\n",
    "\n",
    "imgRGB = cv.cvtColor(img,cv.COLOR_BGR2RGB)\n",
    "results = hands.process(imgRGB)\n",
    "\n",
    "handDetect = results.multi_hand_landmarks\n",
    "if handDetect:\n",
    "     #May be multiple hands\n",
    "     for handLms in handDetect:\n",
    "          for id,lm in enumerate(handLms.landmark):\n",
    "               h, w, c = img.shape\n",
    "               centerX, centerY  = int(lm.x*w),int(lm.y*h)\n",
    "               \n",
    "          mpDraw.draw_landmarks(img, handLms, mpHands.HAND_CONNECTIONS)\n",
    "else:\n",
    "    print(\"papapap\")\n",
    "    \n",
    "cv.imshow(\"img\",img)\n",
    "cv.waitKey(0)"
   ]
  }
 ],
 "metadata": {
  "kernelspec": {
   "display_name": "Python 3",
   "language": "python",
   "name": "python3"
  },
  "language_info": {
   "codemirror_mode": {
    "name": "ipython",
    "version": 3
   },
   "file_extension": ".py",
   "mimetype": "text/x-python",
   "name": "python",
   "nbconvert_exporter": "python",
   "pygments_lexer": "ipython3",
   "version": "3.10.11"
  },
  "orig_nbformat": 4
 },
 "nbformat": 4,
 "nbformat_minor": 2
}
