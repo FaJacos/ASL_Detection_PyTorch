{
 "cells": [
  {
   "attachments": {},
   "cell_type": "markdown",
   "metadata": {},
   "source": [
    "Run everything from top to bottom"
   ]
  },
  {
   "attachments": {},
   "cell_type": "markdown",
   "metadata": {},
   "source": [
    "Import (MUST RUN FIRST)"
   ]
  },
  {
   "cell_type": "code",
   "execution_count": 1,
   "metadata": {},
   "outputs": [],
   "source": [
    "import cv2 as cv\n",
    "import torch as nn\n",
    "import mediapipe as mp\n",
    "import keyboard"
   ]
  },
  {
   "attachments": {},
   "cell_type": "markdown",
   "metadata": {},
   "source": [
    "Basic setup for hand detection"
   ]
  },
  {
   "cell_type": "code",
   "execution_count": 12,
   "metadata": {},
   "outputs": [
    {
     "name": "stdout",
     "output_type": "stream",
     "text": [
      "x: 0.9035223722457886\n",
      "y: 0.5048409104347229\n",
      "z: -0.05230198800563812\n",
      "\n"
     ]
    }
   ],
   "source": [
    "# Gets image from folder\n",
    "img = cv.imread('ASL_Data/asl_alphabet_train/A/A1002.jpg')\n",
    "\n",
    "#Instantiates variables from mediapipe\n",
    "mpHands = mp.solutions.hands\n",
    "hands =  mpHands.Hands()\n",
    "mpDraw = mp.solutions.drawing_utils\n",
    "\n",
    "#Changes current image to RGB\n",
    "imgRGB = cv.cvtColor(img,cv.COLOR_BGR2RGB)\n",
    "#process() only takes in images that are RGB\n",
    "results = hands.process(imgRGB)\n",
    "\n",
    "#Gets the landmarks, also is true if it detects a hand\n",
    "handDetect = results.multi_hand_landmarks\n",
    "\n",
    "print(handDetect[0].landmark[2])\n",
    "\n"
   ]
  },
  {
   "attachments": {},
   "cell_type": "markdown",
   "metadata": {},
   "source": [
    "Check if hand is detected"
   ]
  },
  {
   "cell_type": "code",
   "execution_count": 6,
   "metadata": {},
   "outputs": [
    {
     "name": "stdout",
     "output_type": "stream",
     "text": [
      "Hand is detected\n"
     ]
    }
   ],
   "source": [
    "if handDetect:\n",
    "     print(\"Hand is detected\")\n",
    "else:\n",
    "    print(\"Hand is not detected\")"
   ]
  },
  {
   "attachments": {},
   "cell_type": "markdown",
   "metadata": {},
   "source": [
    "Draws lines of hand and puts dots on joints and palm"
   ]
  },
  {
   "cell_type": "code",
   "execution_count": 3,
   "metadata": {},
   "outputs": [
    {
     "data": {
      "text/plain": [
       "-1"
      ]
     },
     "execution_count": 3,
     "metadata": {},
     "output_type": "execute_result"
    }
   ],
   "source": [
    "if handDetect:\n",
    "     #May be multiple hands\n",
    "     for handLandMarks in handDetect:\n",
    "          #Gets ID and LandMarks in handLms\n",
    "          for id,landMark in enumerate(handLandMarks.landmark):\n",
    "               #size are in terms of percentages based on screen size\n",
    "               height, width, c = img.shape\n",
    "               centerX, centerY  = int(landMark.x*height),int(landMark.y*width)\n",
    "               \n",
    "          mpDraw.draw_landmarks(img, handLandMarks, mpHands.HAND_CONNECTIONS)\n",
    "else:\n",
    "    print(\"Hand is not detected\")\n",
    "    \n",
    "cv.imshow(\"img\",img)\n",
    "cv.waitKey(0)"
   ]
  },
  {
   "attachments": {},
   "cell_type": "markdown",
   "metadata": {},
   "source": [
    "Getting video set up on camera (Press \"q\" to stop camera)"
   ]
  },
  {
   "cell_type": "code",
   "execution_count": null,
   "metadata": {},
   "outputs": [],
   "source": [
    "#Gets camera and captures frame by frame, 0 is for main camera, 1 is secondary, etc\n",
    "cameraDevice = 0\n",
    "capture = cv.VideoCapture(cameraDevice)\n",
    "\n",
    "while not keyboard.is_pressed(\"q\"):\n",
    "    success, img = capture.read()\n",
    "    cv.imshow(\"video\", img)\n",
    "    cv.waitKey(1)\n",
    "\n"
   ]
  },
  {
   "attachments": {},
   "cell_type": "markdown",
   "metadata": {},
   "source": [
    "Camera with hand detection (Doesn't need to run the previous code blocks)"
   ]
  },
  {
   "cell_type": "code",
   "execution_count": null,
   "metadata": {},
   "outputs": [
    {
     "name": "stdout",
     "output_type": "stream",
     "text": [
      "Hand is not detected\n"
     ]
    },
    {
     "ename": "",
     "evalue": "",
     "output_type": "error",
     "traceback": [
      "\u001b[1;31mThe Kernel crashed while executing code in the the current cell or a previous cell. Please review the code in the cell(s) to identify a possible cause of the failure. Click <a href='https://aka.ms/vscodeJupyterKernelCrash'>here</a> for more info. View Jupyter <a href='command:jupyter.viewOutput'>log</a> for further details."
     ]
    },
    {
     "ename": "",
     "evalue": "",
     "output_type": "error",
     "traceback": [
      "\u001b[1;31mCannot execute code, session has been disposed. Please try restarting the Kernel."
     ]
    }
   ],
   "source": [
    "#Combing everything above\n",
    "cameraDevice = 0\n",
    "capture = cv.VideoCapture(cameraDevice)\n",
    "\n",
    "mpHands = mp.solutions.hands\n",
    "hands =  mpHands.Hands()\n",
    "mpDraw = mp.solutions.drawing_utils\n",
    "\n",
    "while not keyboard.is_pressed(\"q\"):\n",
    "    success, img = capture.read()\n",
    "    \n",
    "    imgRGB = cv.cvtColor(img,cv.COLOR_BGR2RGB)\n",
    "    results = hands.process(imgRGB)\n",
    "    handDetect = results.multi_hand_landmarks\n",
    "    \n",
    "    if handDetect:\n",
    "     for handLandMarks in handDetect:\n",
    "          for id,landMark in enumerate(handLandMarks.landmark):\n",
    "               height, width, c = img.shape\n",
    "               centerX, centerY  = int(landMark.x*height),int(landMark.y*width)\n",
    "               \n",
    "          mpDraw.draw_landmarks(img, handLandMarks, mpHands.HAND_CONNECTIONS)\n",
    "     else:\n",
    "         print(\"Hand is not detected\")\n",
    "    \n",
    "    cv.imshow(\"video\", img)\n",
    "    cv.waitKey(1)   \n",
    "else:\n",
    "    print(\"Camera is closed\")\n",
    "    "
   ]
  },
  {
   "attachments": {},
   "cell_type": "markdown",
   "metadata": {},
   "source": [
    "Checks if device can run CUDA"
   ]
  },
  {
   "cell_type": "code",
   "execution_count": 3,
   "metadata": {},
   "outputs": [
    {
     "data": {
      "text/plain": [
       "'cuda'"
      ]
     },
     "execution_count": 3,
     "metadata": {},
     "output_type": "execute_result"
    }
   ],
   "source": [
    "device = \"cuda\" if nn.cuda.is_available() else \"cpu\"\n",
    "device"
   ]
  }
 ],
 "metadata": {
  "kernelspec": {
   "display_name": "Python 3",
   "language": "python",
   "name": "python3"
  },
  "language_info": {
   "codemirror_mode": {
    "name": "ipython",
    "version": 3
   },
   "file_extension": ".py",
   "mimetype": "text/x-python",
   "name": "python",
   "nbconvert_exporter": "python",
   "pygments_lexer": "ipython3",
   "version": "3.10.11"
  },
  "orig_nbformat": 4
 },
 "nbformat": 4,
 "nbformat_minor": 2
}
